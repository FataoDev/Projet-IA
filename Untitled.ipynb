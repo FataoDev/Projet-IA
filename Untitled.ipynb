{
 "cells": [
  {
   "cell_type": "code",
   "execution_count": 7,
   "id": "da8ae336-29b0-45e0-a908-e9aa63cf54c9",
   "metadata": {},
   "outputs": [
    {
     "name": "stdout",
     "output_type": "stream",
     "text": [
      "2\n"
     ]
    },
    {
     "data": {
      "text/plain": [
       "2"
      ]
     },
     "execution_count": 7,
     "metadata": {},
     "output_type": "execute_result"
    }
   ],
   "source": [
    "print(1+1)\n",
    "2//1"
   ]
  },
  {
   "cell_type": "code",
   "execution_count": 5,
   "id": "147ec4ee-a43c-4f19-975d-c87bbeafc96b",
   "metadata": {},
   "outputs": [
    {
     "data": {
      "text/plain": [
       "(int, float)"
      ]
     },
     "execution_count": 5,
     "metadata": {},
     "output_type": "execute_result"
    }
   ],
   "source": [
    "type(111-222), type(222/11)"
   ]
  },
  {
   "cell_type": "code",
   "execution_count": 9,
   "id": "f73c47b2-2111-456c-ab51-5bfb8579e72c",
   "metadata": {},
   "outputs": [
    {
     "name": "stdout",
     "output_type": "stream",
     "text": [
      "a est grand que b\n"
     ]
    }
   ],
   "source": [
    "a= 45\n",
    "b=23\n",
    "\n",
    "if(a<b) :\n",
    "    print('a est petit que b')\n",
    "else :\n",
    "    print ('a est grand que b')"
   ]
  },
  {
   "cell_type": "code",
   "execution_count": 17,
   "id": "b559209f-3f98-426f-ba2e-4beb59dd2565",
   "metadata": {},
   "outputs": [
    {
     "data": {
      "text/plain": [
       "[1, 2, 3, False, 'this is str', 1.2, 2, 9]"
      ]
     },
     "execution_count": 17,
     "metadata": {},
     "output_type": "execute_result"
    }
   ],
   "source": [
    "var1 =  [1,2,3,False, 'this is str',1.2,2,9] #Liste\n",
    "var2 = {1,2,3,False,3,4} #set\n",
    "var3= (1,2,3,32,'this is srt') #tuples\n",
    "var4 = {'one':1,'country':'BF','capital':'Ouaga','array':[1,2,3]}\n"
   ]
  },
  {
   "cell_type": "code",
   "execution_count": 29,
   "id": "10d57248-6257-499e-8389-0ef00561335b",
   "metadata": {},
   "outputs": [
    {
     "name": "stdout",
     "output_type": "stream",
     "text": [
      "this is srt\n"
     ]
    },
    {
     "data": {
      "text/plain": [
       "5"
      ]
     },
     "execution_count": 29,
     "metadata": {},
     "output_type": "execute_result"
    }
   ],
   "source": [
    "for value in var3:\n",
    "    if type(value)==str:\n",
    "        print(value)\n",
    "\n",
    "def add_number(a,b):\n",
    "    return(a+b)\n",
    "add_number(2,3)\n"
   ]
  },
  {
   "cell_type": "code",
   "execution_count": 35,
   "id": "c6558724-7589-4523-b9e0-02a452c0cac5",
   "metadata": {},
   "outputs": [],
   "source": [
    "import numpy as np"
   ]
  },
  {
   "cell_type": "code",
   "execution_count": 37,
   "id": "f72b568a-7409-4e85-8071-2bf35b3c979e",
   "metadata": {},
   "outputs": [],
   "source": [
    "a= np.array(var1)"
   ]
  },
  {
   "cell_type": "code",
   "execution_count": 43,
   "id": "c8fa683a-5231-40b9-a494-da8611985d8a",
   "metadata": {},
   "outputs": [
    {
     "data": {
      "text/plain": [
       "(numpy.ndarray, (8,))"
      ]
     },
     "execution_count": 43,
     "metadata": {},
     "output_type": "execute_result"
    }
   ],
   "source": [
    "type(a), a.shape"
   ]
  },
  {
   "cell_type": "code",
   "execution_count": 49,
   "id": "8751d9f4-f6b7-40a0-975b-6581a44076d7",
   "metadata": {},
   "outputs": [
    {
     "data": {
      "text/plain": [
       "array([['1', '2', '3', 'False', 'this is str', '1.2', '2', '9'],\n",
       "       ['1', '2', '3', 'False', 'this is str', '1.2', '2', '9']],\n",
       "      dtype='<U32')"
      ]
     },
     "execution_count": 49,
     "metadata": {},
     "output_type": "execute_result"
    }
   ],
   "source": [
    "var2d = [var1,var1]\n",
    "b= np.array(var2d)\n",
    "b"
   ]
  },
  {
   "cell_type": "code",
   "execution_count": 51,
   "id": "da6799e9-7024-4f9a-8466-826e401fdca7",
   "metadata": {},
   "outputs": [],
   "source": [
    "from numpy import random"
   ]
  },
  {
   "cell_type": "code",
   "execution_count": 63,
   "id": "b3a4a5b7-88d2-4117-8b6a-521922809509",
   "metadata": {},
   "outputs": [
    {
     "data": {
      "text/plain": [
       "array([1, 3, 5, 7, 9])"
      ]
     },
     "execution_count": 63,
     "metadata": {},
     "output_type": "execute_result"
    }
   ],
   "source": [
    "random.randint(1,1000)\n",
    "np.array(range(1,10,2))"
   ]
  },
  {
   "cell_type": "code",
   "execution_count": 65,
   "id": "c20ea367-8ffd-4bff-ba09-1a0ec788d970",
   "metadata": {},
   "outputs": [],
   "source": [
    "import pandas as pd"
   ]
  },
  {
   "cell_type": "code",
   "execution_count": 69,
   "id": "9fcf36a6-05a2-4fec-b6dd-cc2006a88cd4",
   "metadata": {},
   "outputs": [],
   "source": [
    "import matplotlib.pyplot as plt\n",
    "import pandas as pd"
   ]
  },
  {
   "cell_type": "code",
   "execution_count": null,
   "id": "18df0004-c310-4775-abbe-016e1d8356cb",
   "metadata": {},
   "outputs": [],
   "source": []
  }
 ],
 "metadata": {
  "kernelspec": {
   "display_name": "Python [conda env:base] *",
   "language": "python",
   "name": "conda-base-py"
  },
  "language_info": {
   "codemirror_mode": {
    "name": "ipython",
    "version": 3
   },
   "file_extension": ".py",
   "mimetype": "text/x-python",
   "name": "python",
   "nbconvert_exporter": "python",
   "pygments_lexer": "ipython3",
   "version": "3.12.7"
  }
 },
 "nbformat": 4,
 "nbformat_minor": 5
}
